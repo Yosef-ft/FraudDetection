{
 "cells": [
  {
   "cell_type": "markdown",
   "metadata": {},
   "source": [
    "## Fraud Detection"
   ]
  },
  {
   "cell_type": "markdown",
   "metadata": {},
   "source": [
    "### Fraud Detection models for ecommerce"
   ]
  },
  {
   "cell_type": "markdown",
   "metadata": {},
   "source": [
    "#### Importing necessary libraries"
   ]
  },
  {
   "cell_type": "code",
   "execution_count": 1,
   "metadata": {},
   "outputs": [],
   "source": [
    "import os \n",
    "import time\n",
    "import sys\n",
    "import random\n",
    "from datetime import datetime\n",
    "import pandas as pd\n",
    "import sidetable as stb\n",
    "import seaborn as sns\n",
    "import numpy as np\n",
    "import matplotlib.pyplot as plt\n",
    "from mlflow import MlflowClient\n",
    "from pprint import pprint\n",
    "\n",
    "from sklearn.linear_model import LogisticRegression\n",
    "from sklearn.tree import DecisionTreeClassifier\n",
    "from sklearn.ensemble import RandomForestClassifier, GradientBoostingClassifier\n",
    "from sklearn.neural_network import MLPClassifier\n",
    "from sklearn.metrics import recall_score, accuracy_score, precision_score, f1_score\n",
    "from sklearn.model_selection import train_test_split, GridSearchCV, RandomizedSearchCV\n",
    "from imblearn.over_sampling import SMOTE\n",
    "\n",
    "from tensorflow.keras.models import Sequential\n",
    "from tensorflow.keras.layers import InputLayer, LSTM, Dense, Conv1D, MaxPooling1D, Flatten,Reshape, SimpleRNN, RNN\n",
    "from tensorflow.keras.callbacks import ModelCheckpoint, EarlyStopping \n",
    "from tensorflow.keras.metrics import Accuracy, Precision, F1Score, Recall\n",
    "from tensorflow.keras.losses import BinaryCrossentropy\n",
    "from tensorflow.keras.optimizers import Adam\n",
    "import tensorflow as tf\n",
    "\n",
    "import mlflow"
   ]
  },
  {
   "cell_type": "code",
   "execution_count": 2,
   "metadata": {},
   "outputs": [],
   "source": [
    "import warnings\n",
    "warnings.filterwarnings('ignore')"
   ]
  },
  {
   "cell_type": "code",
   "execution_count": 3,
   "metadata": {},
   "outputs": [],
   "source": [
    "sys.path.append(os.path.abspath('../scripts'))\n",
    "\n",
    "from Utils import DataUtils\n",
    "from Model_utils import ModelUtils\n",
    "from Logger import LOGGER\n",
    "\n",
    "utils = DataUtils()\n",
    "model_utils = ModelUtils()\n",
    "logger = LOGGER"
   ]
  },
  {
   "cell_type": "code",
   "execution_count": 4,
   "metadata": {},
   "outputs": [],
   "source": [
    "utils.set_seeds(42)"
   ]
  },
  {
   "cell_type": "markdown",
   "metadata": {},
   "source": [
    "#### Loading data"
   ]
  },
  {
   "cell_type": "code",
   "execution_count": 5,
   "metadata": {},
   "outputs": [
    {
     "name": "stderr",
     "output_type": "stream",
     "text": [
      "2024-10-25 09:34 - DEBUG :: Loading data from file...\n",
      "2024-10-25 09:34 - INFO :: Loading Clean_FraudData.csv took 4.45 seconds\n",
      "\n",
      "\n",
      "2024-10-25 09:34 - DEBUG :: Loading data from file...\n",
      "2024-10-25 09:34 - INFO :: Loading Clean_creditCard_data.csv took 1.53 seconds\n",
      "\n",
      "\n"
     ]
    }
   ],
   "source": [
    "fraud_data = utils.load_data('Clean_FraudData.csv')\n",
    "creditCard_data = utils.load_data('Clean_creditCard_data.csv')"
   ]
  },
  {
   "cell_type": "markdown",
   "metadata": {},
   "source": [
    "#### Setting up Mlflow"
   ]
  },
  {
   "cell_type": "code",
   "execution_count": 6,
   "metadata": {},
   "outputs": [
    {
     "name": "stderr",
     "output_type": "stream",
     "text": [
      "2024-10-25 09:34 - INFO :: Setting up Mlflow\n",
      "2024-10-25 09:34 - INFO :: Found existing experiment name: Ecommerce-Fraud-Data-forecasting\n",
      "2024-10-25 09:34 - INFO :: Found existing experiment name: creditCard-Fraud-Data-forecasting\n"
     ]
    }
   ],
   "source": [
    "client, fraud_experiment, creditCard_experiment = model_utils.setUp_mlflow()"
   ]
  },
  {
   "cell_type": "markdown",
   "metadata": {},
   "source": [
    "#### Preparing before training"
   ]
  },
  {
   "cell_type": "code",
   "execution_count": 7,
   "metadata": {},
   "outputs": [
    {
     "name": "stderr",
     "output_type": "stream",
     "text": [
      "2024-10-25 09:35 - INFO :: Splitting Fraud data...\n",
      "2024-10-25 09:35 - INFO :: Splitting credit card data...\n"
     ]
    }
   ],
   "source": [
    "X_train_fraud, X_val_fraud, y_train_fraud, y_val_fraud = model_utils.split_data(fraud_data)\n",
    "X_train_creditCard, X_val_creditCard, y_train_creditCard, y_val_creditCard = model_utils.split_data(creditCard_data)"
   ]
  },
  {
   "cell_type": "markdown",
   "metadata": {},
   "source": [
    "#### Traditional models"
   ]
  },
  {
   "cell_type": "code",
   "execution_count": 9,
   "metadata": {},
   "outputs": [
    {
     "name": "stderr",
     "output_type": "stream",
     "text": [
      "2024-10-24 10:33 - INFO :: Start searching for the best Params of a LogisticRegression model\n"
     ]
    },
    {
     "data": {
      "application/vnd.jupyter.widget-view+json": {
       "model_id": "f0a7766a30f740af86d7c2ddcfb3c406",
       "version_major": 2,
       "version_minor": 0
      },
      "text/plain": [
       "Downloading artifacts:   0%|          | 0/7 [00:00<?, ?it/s]"
      ]
     },
     "metadata": {},
     "output_type": "display_data"
    },
    {
     "name": "stderr",
     "output_type": "stream",
     "text": [
      "2024-10-24 10:44 - INFO :: Searching for the best params for LogisticRegression took 619.64 seconds\n",
      "\n",
      "\n",
      "2024-10-24 10:44 - INFO :: Start searching for the best Params of a DecisionTreeClassifier model\n"
     ]
    },
    {
     "data": {
      "application/vnd.jupyter.widget-view+json": {
       "model_id": "d6e9314b6fac450fbd939b43aa686d3f",
       "version_major": 2,
       "version_minor": 0
      },
      "text/plain": [
       "Downloading artifacts:   0%|          | 0/7 [00:00<?, ?it/s]"
      ]
     },
     "metadata": {},
     "output_type": "display_data"
    },
    {
     "name": "stderr",
     "output_type": "stream",
     "text": [
      "2024-10-24 10:48 - INFO :: Searching for the best params for DecisionTreeClassifier took 255.07 seconds\n",
      "\n",
      "\n",
      "2024-10-24 10:48 - INFO :: Start searching for the best Params of a RandomForestClassifier model\n"
     ]
    },
    {
     "data": {
      "application/vnd.jupyter.widget-view+json": {
       "model_id": "5ae5678ea3844b18a95fa62f49eac265",
       "version_major": 2,
       "version_minor": 0
      },
      "text/plain": [
       "Downloading artifacts:   0%|          | 0/7 [00:00<?, ?it/s]"
      ]
     },
     "metadata": {},
     "output_type": "display_data"
    },
    {
     "name": "stderr",
     "output_type": "stream",
     "text": [
      "2024-10-24 10:55 - INFO :: Searching for the best params for RandomForestClassifier took 400.64 seconds\n",
      "\n",
      "\n",
      "2024-10-24 10:55 - INFO :: Start searching for the best Params of a GradientBoostingClassifier model\n"
     ]
    },
    {
     "data": {
      "application/vnd.jupyter.widget-view+json": {
       "model_id": "72ac43f8f0274c12b45d957944e27e0f",
       "version_major": 2,
       "version_minor": 0
      },
      "text/plain": [
       "Downloading artifacts:   0%|          | 0/7 [00:00<?, ?it/s]"
      ]
     },
     "metadata": {},
     "output_type": "display_data"
    },
    {
     "name": "stderr",
     "output_type": "stream",
     "text": [
      "2024-10-24 11:25 - INFO :: Searching for the best params for GradientBoostingClassifier took 1822.57 seconds\n",
      "\n",
      "\n",
      "2024-10-24 11:25 - INFO :: Start searching for the best Params of a MLPClassifier model\n"
     ]
    },
    {
     "data": {
      "application/vnd.jupyter.widget-view+json": {
       "model_id": "55756e00d6364e39b3e423828b09f783",
       "version_major": 2,
       "version_minor": 0
      },
      "text/plain": [
       "Downloading artifacts:   0%|          | 0/7 [00:00<?, ?it/s]"
      ]
     },
     "metadata": {},
     "output_type": "display_data"
    },
    {
     "name": "stderr",
     "output_type": "stream",
     "text": [
      "2024-10-24 12:03 - INFO :: Searching for the best params for MLPClassifier took 2270.77 seconds\n",
      "\n",
      "\n"
     ]
    }
   ],
   "source": [
    "lr_model = LogisticRegression()\n",
    "tree_model = DecisionTreeClassifier()\n",
    "forest_model = RandomForestClassifier()\n",
    "boosting_model = GradientBoostingClassifier()\n",
    "mlp_model = MLPClassifier()\n",
    "\n",
    "for model in [lr_model, tree_model, forest_model, boosting_model, mlp_model]:\n",
    "    model_utils.best_model(X_train_fraud, y_train_fraud, X_val_fraud, y_val_fraud, model, False)"
   ]
  },
  {
   "cell_type": "code",
   "execution_count": 10,
   "metadata": {},
   "outputs": [
    {
     "name": "stderr",
     "output_type": "stream",
     "text": [
      "2024-10-24 13:58 - INFO :: Start Searching for best models using the creditcard dataset....\n",
      "\n",
      "\n",
      "2024-10-24 13:58 - INFO :: Start searching for the best Params of a LogisticRegression model\n"
     ]
    },
    {
     "data": {
      "application/vnd.jupyter.widget-view+json": {
       "model_id": "c057febae3eb4945a8a21433d3e799c0",
       "version_major": 2,
       "version_minor": 0
      },
      "text/plain": [
       "Downloading artifacts:   0%|          | 0/7 [00:00<?, ?it/s]"
      ]
     },
     "metadata": {},
     "output_type": "display_data"
    },
    {
     "name": "stderr",
     "output_type": "stream",
     "text": [
      "2024-10-24 14:04 - INFO :: Searching for the best params for LogisticRegression took 335.65 seconds\n",
      "\n",
      "\n",
      "2024-10-24 14:04 - INFO :: Start searching for the best Params of a DecisionTreeClassifier model\n"
     ]
    },
    {
     "data": {
      "application/vnd.jupyter.widget-view+json": {
       "model_id": "7fc6c7ccd7c84579a1eb5df8ca2a324b",
       "version_major": 2,
       "version_minor": 0
      },
      "text/plain": [
       "Downloading artifacts:   0%|          | 0/7 [00:00<?, ?it/s]"
      ]
     },
     "metadata": {},
     "output_type": "display_data"
    },
    {
     "name": "stderr",
     "output_type": "stream",
     "text": [
      "2024-10-24 14:06 - INFO :: Searching for the best params for DecisionTreeClassifier took 122.95 seconds\n",
      "\n",
      "\n",
      "2024-10-24 14:06 - INFO :: Start searching for the best Params of a RandomForestClassifier model\n"
     ]
    },
    {
     "data": {
      "application/vnd.jupyter.widget-view+json": {
       "model_id": "68ec6e9a93db4e68bc046ca3409dfe2e",
       "version_major": 2,
       "version_minor": 0
      },
      "text/plain": [
       "Downloading artifacts:   0%|          | 0/7 [00:00<?, ?it/s]"
      ]
     },
     "metadata": {},
     "output_type": "display_data"
    },
    {
     "name": "stderr",
     "output_type": "stream",
     "text": [
      "2024-10-24 14:33 - INFO :: Searching for the best params for RandomForestClassifier took 1597.9 seconds\n",
      "\n",
      "\n",
      "2024-10-24 14:33 - INFO :: Start searching for the best Params of a GradientBoostingClassifier model\n"
     ]
    },
    {
     "data": {
      "application/vnd.jupyter.widget-view+json": {
       "model_id": "8002f37ce3884933bc0d1fe0a807b70c",
       "version_major": 2,
       "version_minor": 0
      },
      "text/plain": [
       "Downloading artifacts:   0%|          | 0/7 [00:00<?, ?it/s]"
      ]
     },
     "metadata": {},
     "output_type": "display_data"
    },
    {
     "name": "stderr",
     "output_type": "stream",
     "text": [
      "2024-10-24 16:23 - INFO :: Searching for the best params for GradientBoostingClassifier took 6632.0 seconds\n",
      "\n",
      "\n",
      "2024-10-24 16:23 - INFO :: Start searching for the best Params of a MLPClassifier model\n"
     ]
    },
    {
     "data": {
      "application/vnd.jupyter.widget-view+json": {
       "model_id": "c66d44dc381d4208ab1314e8ca641f8b",
       "version_major": 2,
       "version_minor": 0
      },
      "text/plain": [
       "Downloading artifacts:   0%|          | 0/7 [00:00<?, ?it/s]"
      ]
     },
     "metadata": {},
     "output_type": "display_data"
    },
    {
     "name": "stderr",
     "output_type": "stream",
     "text": [
      "2024-10-24 17:55 - INFO :: Searching for the best params for MLPClassifier took 5502.71 seconds\n",
      "\n",
      "\n",
      "2024-10-24 17:55 - INFO :: Training 5 different models took 14191.37 seconds\n"
     ]
    }
   ],
   "source": [
    "lr_model = LogisticRegression()\n",
    "tree_model = DecisionTreeClassifier()\n",
    "forest_model = RandomForestClassifier()\n",
    "boosting_model = GradientBoostingClassifier()\n",
    "mlp_model = MLPClassifier()\n",
    "\n",
    "logger.info(\"Start Searching for best models using the creditcard dataset....\\n\\n\")\n",
    "start_time = time.time()\n",
    "\n",
    "for model in [lr_model, tree_model, forest_model, boosting_model, mlp_model]:\n",
    "    model_utils.best_model(X_train_creditCard, y_train_creditCard, X_val_creditCard, y_val_creditCard, model, True)\n",
    "\n",
    "end_time = time.time()\n",
    "\n",
    "logger.info(f\"Training 5 different models took {round(end_time - start_time, 2)} seconds\")"
   ]
  },
  {
   "cell_type": "markdown",
   "metadata": {},
   "source": [
    "#### Building neural network models"
   ]
  },
  {
   "cell_type": "code",
   "execution_count": 8,
   "metadata": {},
   "outputs": [
    {
     "name": "stderr",
     "output_type": "stream",
     "text": [
      "2024-10-25 09:35 - INFO :: Start training 3 models, with credit card dataset....\n",
      "\n",
      "\n",
      "2024-10-25 09:35 - INFO :: Start training LSTM model...\n"
     ]
    },
    {
     "data": {
      "text/html": [
       "<pre style=\"white-space:pre;overflow-x:auto;line-height:normal;font-family:Menlo,'DejaVu Sans Mono',consolas,'Courier New',monospace\"></pre>\n"
      ],
      "text/plain": []
     },
     "metadata": {},
     "output_type": "display_data"
    },
    {
     "name": "stderr",
     "output_type": "stream",
     "text": [
      "2024-10-25 09:35 - INFO :: Training LSTM took 16.66 seconds\n",
      "\n",
      "\n",
      "2024-10-25 09:35 - INFO :: Start training CNN model...\n"
     ]
    },
    {
     "data": {
      "text/html": [
       "<pre style=\"white-space:pre;overflow-x:auto;line-height:normal;font-family:Menlo,'DejaVu Sans Mono',consolas,'Courier New',monospace\"></pre>\n"
      ],
      "text/plain": []
     },
     "metadata": {},
     "output_type": "display_data"
    },
    {
     "name": "stderr",
     "output_type": "stream",
     "text": [
      "2024-10-25 09:35 - INFO :: Training CNN took 17.21 seconds\n",
      "\n",
      "\n",
      "2024-10-25 09:35 - INFO :: Start training RNN model...\n"
     ]
    },
    {
     "data": {
      "text/html": [
       "<pre style=\"white-space:pre;overflow-x:auto;line-height:normal;font-family:Menlo,'DejaVu Sans Mono',consolas,'Courier New',monospace\"></pre>\n"
      ],
      "text/plain": []
     },
     "metadata": {},
     "output_type": "display_data"
    },
    {
     "name": "stderr",
     "output_type": "stream",
     "text": [
      "2024-10-25 09:35 - INFO :: Training RNN took 19.01 seconds\n",
      "\n",
      "\n",
      "2024-10-25 09:35 - INFO :: Training 3 different models took 53.13 seconds\n"
     ]
    }
   ],
   "source": [
    "model_utils.train_neural_models(X_train_creditCard, y_train_creditCard, X_val_creditCard, y_val_creditCard, True)"
   ]
  },
  {
   "cell_type": "code",
   "execution_count": 9,
   "metadata": {},
   "outputs": [
    {
     "name": "stderr",
     "output_type": "stream",
     "text": [
      "2024-10-25 09:35 - INFO :: Start training 3 models, with ecommerce fraud dataset....\n",
      "\n",
      "\n",
      "2024-10-25 09:35 - INFO :: Start training LSTM model...\n"
     ]
    },
    {
     "data": {
      "text/html": [
       "<pre style=\"white-space:pre;overflow-x:auto;line-height:normal;font-family:Menlo,'DejaVu Sans Mono',consolas,'Courier New',monospace\"></pre>\n"
      ],
      "text/plain": []
     },
     "metadata": {},
     "output_type": "display_data"
    },
    {
     "name": "stderr",
     "output_type": "stream",
     "text": [
      "2024-10-25 09:36 - INFO :: Training LSTM took 17.12 seconds\n",
      "\n",
      "\n",
      "2024-10-25 09:36 - INFO :: Start training CNN model...\n"
     ]
    },
    {
     "data": {
      "text/html": [
       "<pre style=\"white-space:pre;overflow-x:auto;line-height:normal;font-family:Menlo,'DejaVu Sans Mono',consolas,'Courier New',monospace\"></pre>\n"
      ],
      "text/plain": []
     },
     "metadata": {},
     "output_type": "display_data"
    },
    {
     "name": "stderr",
     "output_type": "stream",
     "text": [
      "2024-10-25 09:36 - INFO :: Training CNN took 26.99 seconds\n",
      "\n",
      "\n",
      "2024-10-25 09:36 - INFO :: Start training RNN model...\n"
     ]
    },
    {
     "data": {
      "text/html": [
       "<pre style=\"white-space:pre;overflow-x:auto;line-height:normal;font-family:Menlo,'DejaVu Sans Mono',consolas,'Courier New',monospace\"></pre>\n"
      ],
      "text/plain": []
     },
     "metadata": {},
     "output_type": "display_data"
    },
    {
     "name": "stderr",
     "output_type": "stream",
     "text": [
      "2024-10-25 09:37 - INFO :: Training RNN took 46.03 seconds\n",
      "\n",
      "\n",
      "2024-10-25 09:37 - INFO :: Training 3 different models took 90.46 seconds\n"
     ]
    }
   ],
   "source": [
    "model_utils.train_neural_models(X_train_fraud, y_train_fraud, X_val_fraud, y_val_fraud, False)  "
   ]
  }
 ],
 "metadata": {
  "kernelspec": {
   "display_name": ".venv",
   "language": "python",
   "name": "python3"
  },
  "language_info": {
   "codemirror_mode": {
    "name": "ipython",
    "version": 3
   },
   "file_extension": ".py",
   "mimetype": "text/x-python",
   "name": "python",
   "nbconvert_exporter": "python",
   "pygments_lexer": "ipython3",
   "version": "3.12.5"
  }
 },
 "nbformat": 4,
 "nbformat_minor": 2
}
